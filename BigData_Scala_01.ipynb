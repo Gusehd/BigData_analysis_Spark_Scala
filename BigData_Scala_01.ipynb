{
 "cells": [
  {
   "cell_type": "code",
   "execution_count": 1,
   "metadata": {},
   "outputs": [
    {
     "data": {
      "text/plain": [
       "Intitializing Scala interpreter ..."
      ]
     },
     "metadata": {},
     "output_type": "display_data"
    },
    {
     "data": {
      "text/plain": [
       "Spark Web UI available at http://localhost:4040\n",
       "SparkContext available as 'sc' (version = 2.4.6, master = local[*], app id = local-1631723283212)\n",
       "SparkSession available as 'spark'\n"
      ]
     },
     "metadata": {},
     "output_type": "display_data"
    },
    {
     "data": {
      "text/plain": [
       "res0: org.apache.spark.SparkContext = org.apache.spark.SparkContext@65d45560\n"
      ]
     },
     "execution_count": 1,
     "metadata": {},
     "output_type": "execute_result"
    }
   ],
   "source": [
    "sc"
   ]
  },
  {
   "cell_type": "code",
   "execution_count": 1,
   "metadata": {},
   "outputs": [
    {
     "data": {
      "text/plain": [
       "Intitializing Scala interpreter ..."
      ]
     },
     "metadata": {},
     "output_type": "display_data"
    },
    {
     "data": {
      "text/plain": [
       "Spark Web UI available at http://localhost:4040\n",
       "SparkContext available as 'sc' (version = 2.4.6, master = local[*], app id = local-1631806453525)\n",
       "SparkSession available as 'spark'\n"
      ]
     },
     "metadata": {},
     "output_type": "display_data"
    },
    {
     "name": "stdout",
     "output_type": "stream",
     "text": [
      "Hello, Scala!\n"
     ]
    }
   ],
   "source": [
    "println(\"Hello, Scala!\")"
   ]
  },
  {
   "cell_type": "code",
   "execution_count": 3,
   "metadata": {},
   "outputs": [
    {
     "name": "stdout",
     "output_type": "stream",
     "text": [
      "10\n",
      "Hello, Scala!\n",
      "20\n",
      "Hello, jupyter!\n"
     ]
    },
    {
     "data": {
      "text/plain": [
       "myvar: Int = 10\n",
       "myval: String = Hello, Scala!\n",
       "myvar1: Int = 20\n",
       "myval1: String = Hello, jupyter!\n"
      ]
     },
     "execution_count": 3,
     "metadata": {},
     "output_type": "execute_result"
    }
   ],
   "source": [
    "//변수만들기\n",
    "//var (mutable) 변수이름 : 변수데이터타입 = 변수내용\n",
    "//val (immutable) 변수이름 : 변수데이터타입 = 변수내용\n",
    "//데이터 타입의 경우 첫 문자를 대문자로 지정해야 하고 , 데이터 타입은 스킵 가능하다.\n",
    "//파이썬과 비슷하게 스칼라도 자동으로 데이터타입을 잡아서 하기 떄문에 스킵이 가능하다.\n",
    "\n",
    "var myvar : Int = 10\n",
    "val myval : String = \"Hello, Scala!\"\n",
    "var myvar1 = 20\n",
    "val myval1 = \"Hello, jupyter!\"\n",
    "\n",
    "println(myvar); println(myval); println(myvar1); println(myval1)"
   ]
  },
  {
   "cell_type": "code",
   "execution_count": 4,
   "metadata": {},
   "outputs": [
    {
     "name": "stdout",
     "output_type": "stream",
     "text": [
      "x is 30\n"
     ]
    },
    {
     "data": {
      "text/plain": [
       "x: Int = 30\n"
      ]
     },
     "execution_count": 4,
     "metadata": {},
     "output_type": "execute_result"
    }
   ],
   "source": [
    "//조건문 사용하기\n",
    "//if(조건문){조건문내용} 이후 else / else if 로 똑같이 전개 타 언어와 크게 다른점 없음\n",
    "\n",
    "var x = 30;\n",
    "\n",
    "if(x == 10)\n",
    "{\n",
    "    println(\"x is 10\");\n",
    "}\n",
    "else if(x == 20)\n",
    "{\n",
    "    println(\"x is 20\");\n",
    "}\n",
    "else if(x == 30)\n",
    "{\n",
    "    println(\"x is 30\");\n",
    "}"
   ]
  },
  {
   "cell_type": "code",
   "execution_count": 5,
   "metadata": {},
   "outputs": [
    {
     "name": "stdout",
     "output_type": "stream",
     "text": [
      "a is 10\n",
      "a is 11\n",
      "a is 12\n",
      "a is 13\n",
      "a is 14\n",
      "a is 15\n",
      "a is 16\n",
      "a is 17\n",
      "a is 18\n",
      "a is 19\n"
     ]
    },
    {
     "data": {
      "text/plain": [
       "a: Int = 20\n"
      ]
     },
     "execution_count": 5,
     "metadata": {},
     "output_type": "execute_result"
    }
   ],
   "source": [
    "//반복문 사용하기\n",
    "//while(컨디션){반복문내용}\n",
    "//조금 더 보자면 println 안의 문자열과 변수가 더해져서 문자열 더하기 처럼 같이 나오도록 할 수 있다.\n",
    "\n",
    "var a = 10\n",
    "\n",
    "while(a<20){\n",
    "    println(\"a is \" + a)\n",
    "    a = a + 1\n",
    "}"
   ]
  },
  {
   "cell_type": "code",
   "execution_count": 6,
   "metadata": {},
   "outputs": [
    {
     "name": "stdout",
     "output_type": "stream",
     "text": [
      "a is 10\n",
      "a is 11\n",
      "a is 12\n",
      "a is 13\n",
      "a is 14\n",
      "a is 15\n",
      "a is 16\n",
      "a is 17\n",
      "a is 18\n",
      "a is 19\n"
     ]
    },
    {
     "data": {
      "text/plain": [
       "a: Int = 20\n"
      ]
     },
     "execution_count": 6,
     "metadata": {},
     "output_type": "execute_result"
    }
   ],
   "source": [
    "//반복문 사용하기\n",
    "//do - while\n",
    "//do { 반복문 내용 }\n",
    "//while(컨디션)\n",
    "//while과 do-while의 기본적인 차이는 컨디션을 만족하지 않아도 무조건 한번을 실행한다는 점이다.\n",
    "\n",
    "var a = 10\n",
    "\n",
    "do{\n",
    "    println(\"a is \" + a)\n",
    "    a = a + 1\n",
    "}while( a<20)"
   ]
  },
  {
   "cell_type": "code",
   "execution_count": 8,
   "metadata": {},
   "outputs": [
    {
     "name": "stdout",
     "output_type": "stream",
     "text": [
      "i is 1\n",
      "i is 2\n",
      "i is 3\n",
      "i is 4\n",
      "i is 5\n",
      "i is 6\n",
      "i is 7\n",
      "i is 8\n",
      "i is 9\n",
      "i is 10\n",
      "i is 1\n",
      "i is 2\n",
      "i is 3\n",
      "i is 4\n",
      "i is 5\n",
      "i is 6\n",
      "i is 7\n",
      "i is 8\n",
      "i is 9\n"
     ]
    }
   ],
   "source": [
    "//반복문 사용하기\n",
    "//for loop\n",
    "//for(var x <- Range){\n",
    "//반복문 내용 }\n",
    "//Range 부분을 보면 조금 특이한데 i <- 1 to 10 이런식으로 to로 Range를 지정한다.\n",
    "//Scala가 다른 언어와 다른점은 a++ 같은 것이 없다는 부분이다.\n",
    "//to - until의 차이는 마지막 부분을 포함하는지 하지 않는지에 대한 부분이다.\n",
    "//to 는 포함 , until 은 포함 하지 않는다.\n",
    "\n",
    "for( i <- 1 to 10){\n",
    "    println(\"i is \" + i)\n",
    "}\n",
    "\n",
    "for( i <- 1 until 10){\n",
    "    println(\"i is \" + i)\n",
    "}"
   ]
  },
  {
   "cell_type": "code",
   "execution_count": 10,
   "metadata": {},
   "outputs": [
    {
     "name": "stdout",
     "output_type": "stream",
     "text": [
      "i is 1\n",
      "j is 1\n",
      "i is 1\n",
      "j is 2\n",
      "i is 1\n",
      "j is 3\n",
      "i is 2\n",
      "j is 1\n",
      "i is 2\n",
      "j is 2\n",
      "i is 2\n",
      "j is 3\n",
      "i is 3\n",
      "j is 1\n",
      "i is 3\n",
      "j is 2\n",
      "i is 3\n",
      "j is 3\n"
     ]
    }
   ],
   "source": [
    "//반복문 사용하기\n",
    "//이중 for문\n",
    "//앞의 레인지의 첫번째값 이후 뒤에있는 레인지 쭉하고 이후 앞의 레인지 넘어가고 다시 뒤쪽 레인지 이다.\n",
    "//아래의 예시로 보면 1 1 / 1 2 / 1 3 / 2 1 / 2 2 / 2 3 ... 이다.\n",
    "//사용법을 보자면 범위를 2개 잡고 그 사이를 세미콜론 (;) 로 구분한다.\n",
    "\n",
    "for( i <- 1 to 3; j <- 1 to 3){\n",
    "     println(\"i is \" + i)\n",
    "     println(\"j is \" + j)\n",
    "}"
   ]
  },
  {
   "cell_type": "code",
   "execution_count": 11,
   "metadata": {},
   "outputs": [
    {
     "name": "stdout",
     "output_type": "stream",
     "text": [
      "list is 1\n",
      "list is 2\n",
      "list is 3\n",
      "list is 4\n",
      "list is 5\n",
      "list is 6\n"
     ]
    },
    {
     "data": {
      "text/plain": [
       "numList: List[Int] = List(1, 2, 3, 4, 5, 6)\n"
      ]
     },
     "execution_count": 11,
     "metadata": {},
     "output_type": "execute_result"
    }
   ],
   "source": [
    "//반복문 사용허기\n",
    "//리스트(배열)안 순회하기\n",
    "//for(var x <- List){\n",
    "//반복문 내용 }\n",
    "//Scala에서는 이러한 구조를 컬렉션 이라고 부른다. 다양한 컬렉션이 존재하고 나중에 더 설명한다.\n",
    "//기본적인 스칼라 컬렉션인 리스트를 보게 된다. 리스트는 val numList = List(1,2,3,4,5,6) 이런식으로 만들게 된다.\n",
    "//List(원소) 이런식으로 만드록 지정한다. 이 역시 for문에서 접근시 <- 로 접근하면 된다.\n",
    "//코드를 확인하면 생각보다 직관적으로 표현한 것을 알 수 있다.\n",
    "\n",
    "val numList = List(1,2,3,4,5,6)\n",
    "\n",
    "for ( a <- numList){\n",
    "    println(\"list is \" + a)\n",
    "}"
   ]
  },
  {
   "cell_type": "code",
   "execution_count": 12,
   "metadata": {},
   "outputs": [
    {
     "name": "stdout",
     "output_type": "stream",
     "text": [
      "list is 1\n",
      "list is 2\n",
      "list is 4\n",
      "list is 5\n",
      "list is 6\n",
      "list is 7\n"
     ]
    },
    {
     "data": {
      "text/plain": [
       "a: Int = 0\n",
       "numList: List[Int] = List(1, 2, 3, 4, 5, 6, 7, 8, 9, 10)\n"
      ]
     },
     "execution_count": 12,
     "metadata": {},
     "output_type": "execute_result"
    }
   ],
   "source": [
    "//반복문 사용하기\n",
    "//for문에 if문 사용하기\n",
    "//for문과 if문을 함께 사용하는 부분에서는 for문의 범위를 지정하는 컨디션 부분에서 if를 넣게 된다.\n",
    "//범위를 <- 로 넣고 그 요소에 대해서 if문을 같은 () 안에 넣어서 정리하고 여러개의 조건이 있을시에는\n",
    "// ; 세미콜론 으로 구분해서 넣어주면 된다.\n",
    "\n",
    "var a = 0;\n",
    "val numList = List(1,2,3,4,5,6,7,8,9,10)\n",
    "\n",
    "for(a <- numList\n",
    "   if a != 3; if a < 8){\n",
    "    println(\"list is \" + a)\n",
    "}"
   ]
  },
  {
   "cell_type": "code",
   "execution_count": 13,
   "metadata": {},
   "outputs": [
    {
     "name": "stdout",
     "output_type": "stream",
     "text": [
      "retVal is 1\n",
      "retVal is 2\n",
      "retVal is 4\n",
      "retVal is 5\n",
      "retVal is 6\n",
      "retVal is 7\n"
     ]
    },
    {
     "data": {
      "text/plain": [
       "a: Int = 0\n",
       "numList: List[Int] = List(1, 2, 3, 4, 5, 6, 7, 8, 9, 10)\n",
       "retVal: List[Int] = List(1, 2, 4, 5, 6, 7)\n"
      ]
     },
     "execution_count": 13,
     "metadata": {},
     "output_type": "execute_result"
    }
   ],
   "source": [
    "//반복분 사용하기\n",
    "//for 루프  + yield\n",
    "//var retVal = for{ var x <- List\n",
    "// if condition1; if condition2 ...}\n",
    "//yield x\n",
    "//yield를 사용한다는 것 : for 루프 마지막에 yield a 이런식으로 붙여놓으면 a에다가 for 루프에서 나오는 값을\n",
    "//a에 리턴한다는 뜻이다. 즉 for루프를 돌리면서 나온 것들을 a에 리턴해서 거기다 넣는 것이다.\n",
    "//즉 yield a 하면 이 조건을 만족하는 a는 리턴을 하겠다는 것이고 그 리턴된 a는 옆의 변수에 들어가게 되는 것이다.\n",
    "//이처럼 조건을 만족하는 새로운 리스트를 yield를 통해서 만들어 낼 수 있다.\n",
    "//조건을 만족하는 것들만 뽑아낼 수 있어 유용하게 쓸 수 있다.\n",
    "\n",
    "var a = 0;\n",
    "val numList = List(1,2,3,4,5,6,7,8,9,10)\n",
    "\n",
    "var retVal = for{ a <- numList if a != 3; if a< 8} yield a\n",
    "\n",
    "for( a <- retVal){\n",
    "    println(\"retVal is \" + a)\n",
    "}"
   ]
  },
  {
   "cell_type": "code",
   "execution_count": 16,
   "metadata": {},
   "outputs": [
    {
     "name": "stdout",
     "output_type": "stream",
     "text": [
      "Sum is 12\n"
     ]
    },
    {
     "data": {
      "text/plain": [
       "addint: (a: Int, b: Int)Int\n"
      ]
     },
     "execution_count": 16,
     "metadata": {},
     "output_type": "execute_result"
    }
   ],
   "source": [
    "//함수 선언 및 정의하기\n",
    "//def 함수이름 ([파라미터 리스트]) : [리턴 타입] - 선언\n",
    "//def 함수이름 ([파라미터 리스트]) : [리턴 타입] = { 함수 내용 , return [expr] } - 정의\n",
    "//함수 불러오기 - 함수이름( 파라미터 리스트 ) or [instance.]함수이름( 파라미터 리스트 )\n",
    "//함수가 어떤 클래스의 멤버라면 클래스에 인스턴스를 만들고 instance.함수이름으로 부르고 이는 C++와 동일하다.\n",
    "\n",
    "\n",
    "//첫쨰줄을 보면 함수 안의 파라미터의 이름과 데이터 타입을 명시하고 옆에는 리턴타입도 명시한다.\n",
    "\n",
    "def addint( a:Int , b:Int) : Int = {\n",
    "    var sum:Int = 0\n",
    "    sum = a + b\n",
    "    return sum\n",
    "}\n",
    "\n",
    "println(\"Sum is \" + addint(5,7))"
   ]
  },
  {
   "cell_type": "code",
   "execution_count": null,
   "metadata": {},
   "outputs": [],
   "source": [
    "//Anonymous Function 함수 이름이 없는 함수\n",
    "//(x: Int) => x + 1\n",
    "//(x: Int , y =:Int) => \"(\" + x + \",\" + y + \")\"\n",
    "//() => { System.getProperty(\"user.dir\")}\n",
    "//파라미터 2개 , 1개 , 0개도 더많은 파라미터도 만들어낼 수 있다.\n",
    "\n",
    "//closure -> 리턴밸류의 타입이 정해지지 않고 함수의 밖에서 선언된 변수들에 의존하는 경우이다.\n",
    "//var fac = 3\n",
    "//val multi = (i:Int) => i * fac 하면 이 어나니머스 함수는 fac에 의해서 리턴타입이 정해질 것이다.\n",
    "//즉 리턴타입이 함수의 밖에서 선언된 변수에 의해 바뀔 수 있는 것이다.\n",
    "//만약 fac을 double , float 이었다면 리턴타입도 그에 따라 바뀔 것 이다.\n",
    "\n",
    "//Scala's Collections\n",
    "//List / Sets / Maps / Tuples / Options / Iterators 등이 있다."
   ]
  },
  {
   "cell_type": "code",
   "execution_count": 18,
   "metadata": {},
   "outputs": [
    {
     "name": "stdout",
     "output_type": "stream",
     "text": [
      "x is 20\n",
      "y is 30\n"
     ]
    },
    {
     "data": {
      "text/plain": [
       "defined class Point\n",
       "pt: Point = Point@742923fb\n"
      ]
     },
     "execution_count": 18,
     "metadata": {},
     "output_type": "execute_result"
    }
   ],
   "source": [
    "//클래스와 오브젝트\n",
    "//Scala는 객체지향언어이다. 따라서 클래스와 오브젝트가 있다.\n",
    "//클래스는 이름 짓고 이니션밸류의 데이터 타입 명시하고 받아준다. 이후 안에 멤버 함수도 만들고 요소도 만든다.\n",
    "//새로운 클래스를 생성하는 경우는 new를 사용해서 만든다.\n",
    "//클래스 및 오브젝트의 사용법은 C++ 나 자바와 유사하게 이루어 진다.\n",
    "\n",
    "class Point(xc: Int , yc: Int){\n",
    "    var x: Int = xc\n",
    "    var y: Int = yc\n",
    "    \n",
    "    def move(dx: Int, dy:Int){\n",
    "        x = x + dx\n",
    "        y = y + dy\n",
    "        println(\"x is \" + x)\n",
    "        println(\"y is \" + y)\n",
    "    }\n",
    "}\n",
    "\n",
    "val pt = new Point(10,20)\n",
    "pt.move(10,10)"
   ]
  },
  {
   "cell_type": "code",
   "execution_count": null,
   "metadata": {},
   "outputs": [],
   "source": []
  }
 ],
 "metadata": {
  "kernelspec": {
   "display_name": "spylon-kernel",
   "language": "scala",
   "name": "spylon-kernel"
  },
  "language_info": {
   "codemirror_mode": "text/x-scala",
   "file_extension": ".scala",
   "help_links": [
    {
     "text": "MetaKernel Magics",
     "url": "https://metakernel.readthedocs.io/en/latest/source/README.html"
    }
   ],
   "mimetype": "text/x-scala",
   "name": "scala",
   "pygments_lexer": "scala",
   "version": "0.4.1"
  }
 },
 "nbformat": 4,
 "nbformat_minor": 4
}
